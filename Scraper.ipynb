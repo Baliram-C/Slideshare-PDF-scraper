{
 "cells": [
  {
   "cell_type": "code",
   "execution_count": 3,
   "id": "7d202301",
   "metadata": {},
   "outputs": [],
   "source": [
    "import requests\n",
    "from bs4 import BeautifulSoup\n",
    "from PIL import Image\n",
    "from fpdf import FPDF\n",
    "\n",
    "# URL of the PDFSlide website\n",
    "url = 'https://www.slideshare.net/AmazonWebServices/introduction-to-identity-and-access-management-iam'\n",
    "\n",
    "# Send an HTTP GET request to the URL and get the HTML content\n",
    "response = requests.get(url)\n",
    "html = response.content\n",
    "\n",
    "# Use BeautifulSoup to parse the HTML content\n",
    "soup = BeautifulSoup(html, 'html.parser')"
   ]
  },
  {
   "cell_type": "code",
   "execution_count": 28,
   "id": "8e76f4d2",
   "metadata": {},
   "outputs": [],
   "source": [
    "pictures1 = soup.find_all('picture')"
   ]
  },
  {
   "cell_type": "markdown",
   "id": "9e5cfa9a",
   "metadata": {},
   "source": [
    "img_urls11 = []\n",
    "for picture in pictures1:\n",
    "    img = picture.find('img')\n",
    "    if img is not None and img.has_attr('srcset'):\n",
    "        img_urls11.append(img['srcset'])"
   ]
  },
  {
   "cell_type": "code",
   "execution_count": 99,
   "id": "3e217d35",
   "metadata": {},
   "outputs": [],
   "source": [
    "img_urls = []\n",
    "for picture in pictures1:\n",
    "    source = picture.find('source')\n",
    "    if source and source.has_attr('srcset'):\n",
    "        srcset = source['srcset']\n",
    "        for url in srcset.split(','):\n",
    "            if '2048.jpg' in url:\n",
    "                img_urls.append(url.strip().split()[0])"
   ]
  },
  {
   "cell_type": "code",
   "execution_count": 100,
   "id": "5b36f714",
   "metadata": {},
   "outputs": [
    {
     "data": {
      "text/plain": [
       "['https://image.slidesharecdn.com/aawsloftiamintroduction02-170228043140/75/introduction-to-identity-and-access-management-iam-1-2048.jpg?cb=1666662489',\n",
       " 'https://image.slidesharecdn.com/aawsloftiamintroduction02-170228043140/75/introduction-to-identity-and-access-management-iam-2-2048.jpg?cb=1666662489',\n",
       " 'https://image.slidesharecdn.com/aawsloftiamintroduction02-170228043140/75/introduction-to-identity-and-access-management-iam-3-2048.jpg?cb=1666662489',\n",
       " 'https://image.slidesharecdn.com/aawsloftiamintroduction02-170228043140/75/introduction-to-identity-and-access-management-iam-4-2048.jpg?cb=1666662489',\n",
       " 'https://image.slidesharecdn.com/aawsloftiamintroduction02-170228043140/75/introduction-to-identity-and-access-management-iam-5-2048.jpg?cb=1666662489',\n",
       " 'https://image.slidesharecdn.com/aawsloftiamintroduction02-170228043140/75/introduction-to-identity-and-access-management-iam-6-2048.jpg?cb=1666662489',\n",
       " 'https://image.slidesharecdn.com/aawsloftiamintroduction02-170228043140/75/introduction-to-identity-and-access-management-iam-7-2048.jpg?cb=1666662489',\n",
       " 'https://image.slidesharecdn.com/aawsloftiamintroduction02-170228043140/75/introduction-to-identity-and-access-management-iam-8-2048.jpg?cb=1666662489',\n",
       " 'https://image.slidesharecdn.com/aawsloftiamintroduction02-170228043140/75/introduction-to-identity-and-access-management-iam-9-2048.jpg?cb=1666662489',\n",
       " 'https://image.slidesharecdn.com/aawsloftiamintroduction02-170228043140/75/introduction-to-identity-and-access-management-iam-10-2048.jpg?cb=1666662489',\n",
       " 'https://image.slidesharecdn.com/aawsloftiamintroduction02-170228043140/75/introduction-to-identity-and-access-management-iam-11-2048.jpg?cb=1666662489',\n",
       " 'https://image.slidesharecdn.com/aawsloftiamintroduction02-170228043140/75/introduction-to-identity-and-access-management-iam-12-2048.jpg?cb=1666662489',\n",
       " 'https://image.slidesharecdn.com/aawsloftiamintroduction02-170228043140/75/introduction-to-identity-and-access-management-iam-13-2048.jpg?cb=1666662489',\n",
       " 'https://image.slidesharecdn.com/aawsloftiamintroduction02-170228043140/75/introduction-to-identity-and-access-management-iam-14-2048.jpg?cb=1666662489',\n",
       " 'https://image.slidesharecdn.com/aawsloftiamintroduction02-170228043140/75/introduction-to-identity-and-access-management-iam-15-2048.jpg?cb=1666662489',\n",
       " 'https://image.slidesharecdn.com/aawsloftiamintroduction02-170228043140/75/introduction-to-identity-and-access-management-iam-16-2048.jpg?cb=1666662489',\n",
       " 'https://image.slidesharecdn.com/aawsloftiamintroduction02-170228043140/75/introduction-to-identity-and-access-management-iam-17-2048.jpg?cb=1666662489',\n",
       " 'https://image.slidesharecdn.com/aawsloftiamintroduction02-170228043140/75/introduction-to-identity-and-access-management-iam-18-2048.jpg?cb=1666662489',\n",
       " 'https://image.slidesharecdn.com/aawsloftiamintroduction02-170228043140/75/introduction-to-identity-and-access-management-iam-19-2048.jpg?cb=1666662489',\n",
       " 'https://image.slidesharecdn.com/aawsloftiamintroduction02-170228043140/75/introduction-to-identity-and-access-management-iam-20-2048.jpg?cb=1666662489',\n",
       " 'https://image.slidesharecdn.com/aawsloftiamintroduction02-170228043140/75/introduction-to-identity-and-access-management-iam-21-2048.jpg?cb=1666662489']"
      ]
     },
     "execution_count": 100,
     "metadata": {},
     "output_type": "execute_result"
    }
   ],
   "source": [
    "img_urls"
   ]
  },
  {
   "cell_type": "code",
   "execution_count": 104,
   "id": "8b1732ea",
   "metadata": {},
   "outputs": [],
   "source": [
    "from PIL import Image\n",
    "import os\n",
    "import requests\n",
    "\n",
    "# create the folder to save the images in\n",
    "folder_path = 'converted_images'\n",
    "if not os.path.exists(folder_path):\n",
    "    os.makedirs(folder_path)\n",
    "\n",
    "# loop through the img_urls list and download each image\n",
    "for url in img_urls:\n",
    "    response = requests.get(url)\n",
    "    img = Image.open(BytesIO(response.content))\n",
    "    \n",
    "    # convert image to JPEG format\n",
    "    img = img.convert('RGB')\n",
    "    \n",
    "    # save the image with a new file name and JPEG format in the folder\n",
    "    new_file_name = url.split('/')[-1].split('.')[0] + '.jpg'\n",
    "    img.save(os.path.join(folder_path, new_file_name), 'JPEG')"
   ]
  },
  {
   "cell_type": "code",
   "execution_count": 107,
   "id": "545a6686",
   "metadata": {},
   "outputs": [],
   "source": [
    "import os\n",
    "import pptx\n",
    "from pptx.util import Inches\n",
    "\n",
    "# specify the folder containing the JPEG images\n",
    "folder_path = 'C:/Users/balir/Downloads/converted_images'\n",
    "\n",
    "# create a new PowerPoint presentation\n",
    "prs = pptx.Presentation()\n",
    "\n",
    "# loop through the JPEG images in the folder and add each image to a new slide in the presentation\n",
    "for filename in os.listdir(folder_path):\n",
    "    if filename.endswith('.jpg'):\n",
    "        slide = prs.slides.add_slide(prs.slide_layouts[1])\n",
    "        pic = slide.shapes.add_picture(os.path.join(folder_path, filename), \n",
    "                                        left=Inches(0), \n",
    "                                        top=Inches(0), \n",
    "                                        width=prs.slide_width, \n",
    "                                        height=prs.slide_height)\n",
    "        \n",
    "# save the PowerPoint presentation in the same folder\n",
    "prs.save(os.path.join(folder_path, 'Introduction to Identity and Access Management (IAM).pptx'))"
   ]
  },
  {
   "cell_type": "code",
   "execution_count": null,
   "id": "631ff429",
   "metadata": {},
   "outputs": [],
   "source": []
  }
 ],
 "metadata": {
  "kernelspec": {
   "display_name": "Python 3 (ipykernel)",
   "language": "python",
   "name": "python3"
  },
  "language_info": {
   "codemirror_mode": {
    "name": "ipython",
    "version": 3
   },
   "file_extension": ".py",
   "mimetype": "text/x-python",
   "name": "python",
   "nbconvert_exporter": "python",
   "pygments_lexer": "ipython3",
   "version": "3.9.13"
  }
 },
 "nbformat": 4,
 "nbformat_minor": 5
}
